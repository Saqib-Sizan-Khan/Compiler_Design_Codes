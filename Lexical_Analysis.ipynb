{
  "nbformat": 4,
  "nbformat_minor": 0,
  "metadata": {
    "colab": {
      "name": "Lexical Analysis.ipynb",
      "provenance": [],
      "collapsed_sections": [],
      "mount_file_id": "1qbF9nLcvSZJzgn3vACgA8d8-mEcT6rZp",
      "authorship_tag": "ABX9TyMkFdSN/2wErLIcWF727iW/",
      "include_colab_link": true
    },
    "kernelspec": {
      "name": "python3",
      "display_name": "Python 3"
    },
    "language_info": {
      "name": "python"
    }
  },
  "cells": [
    {
      "cell_type": "markdown",
      "metadata": {
        "id": "view-in-github",
        "colab_type": "text"
      },
      "source": [
        "<a href=\"https://colab.research.google.com/github/Saqib-Sizan-Khan/Compiler_Design_Codes/blob/main/Lexical_Analysis.ipynb\" target=\"_parent\"><img src=\"https://colab.research.google.com/assets/colab-badge.svg\" alt=\"Open In Colab\"/></a>"
      ]
    },
    {
      "cell_type": "code",
      "execution_count": 24,
      "metadata": {
        "id": "eVlBKNXmEZoe",
        "colab": {
          "base_uri": "https://localhost:8080/"
        },
        "outputId": "bbbb3a11-3833-4fc3-d29b-c05a1993fa3b"
      },
      "outputs": [
        {
          "output_type": "stream",
          "name": "stdout",
          "text": [
            "['int', 'a', '=', 'b', '*', 'c', '+', '10', ';']\n",
            "Keyword (1): int\n",
            "Indentifier (3): b, c, a\n",
            "Arithmetic Operator (3): =, *, +\n",
            "Constant (1): 10\n",
            "Parenthesis (0): \n",
            "Punctuation (1): ;\n",
            "No Lexical Error\n"
          ]
        }
      ],
      "source": [
        "# f = open(\"text.txt\", \"r\")\n",
        "# print(f'Code Syntex: {f.read()}\\n')\n",
        "# syntex = str(f)\n",
        "\n",
        "syntex = 'int a = b * c + 10 ;'\n",
        "error = False\n",
        "\n",
        "kw = ['int', 'float', 'double', 'if', 'elif', 'else', 'for']\n",
        "ao = ['+', '-', '*', '/', '=']\n",
        "punct = [':', ';', ',']\n",
        "pt = ['(', ')', '{', '}', '[', ']']\n",
        "\n",
        "keyword = []\n",
        "identifier = []\n",
        "constant = []\n",
        "arithmetic_operator = []\n",
        "punctuation = []\n",
        "parenthesis = []\n",
        "bracket = []\n",
        "\n",
        "tokens = syntex.split()\n",
        "print(tokens)\n",
        "\n",
        "for token in tokens:\n",
        "  if token in kw:\n",
        "    keyword.append(token)\n",
        "  elif token in ao:\n",
        "    arithmetic_operator.append(token)\n",
        "  elif token.isdecimal():\n",
        "    constant.append(token)\n",
        "  elif token in pt:\n",
        "    parenthesis.append(token)\n",
        "  elif token in punct:\n",
        "    punctuation.append(token)\n",
        "  else:\n",
        "    identifier.append(token)\n",
        "\n",
        "print(f'Keyword ({len(keyword)}):', end=' ')\n",
        "print(*keyword, sep=', ')\n",
        "\n",
        "for i in identifier:\n",
        "  if i[0].isdigit():\n",
        "    error = True\n",
        "\n",
        "identifier  = set(identifier)\n",
        "print(f'Indentifier ({len(identifier)}):', end=' ')\n",
        "print(*identifier, sep=', ')\n",
        "\n",
        "print(f'Arithmetic Operator ({len(arithmetic_operator)}):', end=' ')\n",
        "print(*arithmetic_operator, sep=', ')\n",
        "\n",
        "print(f'Constant ({len(constant)}):', end=' ')\n",
        "print(*constant, sep=', ')\n",
        "\n",
        "for p in parenthesis:\n",
        "  if p == '(':\n",
        "    if ')' in parenthesis:\n",
        "      bracket.append('()')\n",
        "      parenthesis.remove(')')\n",
        "    else:\n",
        "      error = True\n",
        "      bracket.append(p)\n",
        "\n",
        "  if p == '{':\n",
        "    if '}' in parenthesis:\n",
        "      bracket.append('{}')\n",
        "      parenthesis.remove('}')\n",
        "    else:\n",
        "      error = True\n",
        "      bracket.append(p)\n",
        "\n",
        "  if p == '[':\n",
        "    if ']' in parenthesis:\n",
        "      bracket.append('[]')\n",
        "      parenthesis.remove(']')\n",
        "    else:\n",
        "      error = True\n",
        "      bracket.append(p)\n",
        "  \n",
        "  elif p == ')' or p == '}' or p == ']':\n",
        "    error = True\n",
        "    bracket.append(p)\n",
        "\n",
        "print(f'Parenthesis ({len(bracket)}):', end=' ')\n",
        "print(*bracket, sep=', ')\n",
        "\n",
        "print(f'Punctuation ({len(punctuation)}):', end=' ')\n",
        "print(*punctuation, sep=', ')\n",
        "\n",
        "if error:\n",
        "  print(\"Appered Lexical Error\")\n",
        "else:\n",
        "  print('No Lexical Error')"
      ]
    },
    {
      "cell_type": "code",
      "source": [
        "syntex = 'int a = b*c+10;'\n",
        "error = False\n",
        "\n",
        "kw = ['int', 'float', 'double', 'if', 'elif', 'else', 'for']\n",
        "ao = ['+', '-', '*', '/', '=']\n",
        "punct = [':', ';', ',']\n",
        "pt = ['(', ')', '{', '}', '[', ']']\n",
        "v = ['a','b','c','p','q','x','y','z']\n",
        "\n",
        "keyword = []\n",
        "identifier = []\n",
        "constant = []\n",
        "arithmetic_operator = []\n",
        "punctuation = []\n",
        "parenthesis = []\n",
        "bracket = []\n",
        "\n",
        "tokens = syntex.split()\n",
        "sep_ele = []\n",
        "n = ''\n",
        "numbers = []\n",
        "\n",
        "print(tokens)\n",
        "print()\n",
        "\n",
        "for token in tokens:\n",
        "  if token in kw:\n",
        "    sep_ele.append(token)\n",
        "  for t in token:\n",
        "    if t.isdigit():\n",
        "      n = n + t\n",
        "      sep_ele.append(t)\n",
        "    else:\n",
        "      if t in ao:\n",
        "        sep_ele.append(t)\n",
        "      elif token in pt:\n",
        "        sep_ele.append(t)\n",
        "      elif t in punct:\n",
        "        sep_ele.append(t)\n",
        "      elif t in v:\n",
        "        sep_ele.append(t)\n",
        "      if n != '':\n",
        "        numbers.append(n)\n",
        "        n = ''\n",
        "\n",
        "print(sep_ele)\n",
        "print(numbers)\n",
        "\n",
        "sep_ele = [item for item in sep_ele if not item.isdigit()]\n",
        "\n",
        "for i in numbers:\n",
        "  sep_ele.append(i)\n",
        "\n",
        "print(sep_ele)"
      ],
      "metadata": {
        "colab": {
          "base_uri": "https://localhost:8080/"
        },
        "id": "sIrwU67QAzEt",
        "outputId": "0d0f0dfa-55da-49ae-b4a1-ecca70675207"
      },
      "execution_count": 61,
      "outputs": [
        {
          "output_type": "stream",
          "name": "stdout",
          "text": [
            "['int', 'a', '=', 'b*c+10;']\n",
            "\n",
            "['int', 'a', '=', 'b', '*', 'c', '+', '1', '0', ';']\n",
            "['10']\n",
            "['int', 'a', '=', 'b', '*', 'c', '+', ';', '10']\n"
          ]
        }
      ]
    }
  ]
}