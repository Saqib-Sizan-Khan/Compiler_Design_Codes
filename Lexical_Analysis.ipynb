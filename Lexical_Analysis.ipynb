{
  "nbformat": 4,
  "nbformat_minor": 0,
  "metadata": {
    "colab": {
      "name": "Lexical Analysis.ipynb",
      "provenance": [],
      "collapsed_sections": [],
      "authorship_tag": "ABX9TyOuB3hKXrKdQe3kUzVWi0zd",
      "include_colab_link": true
    },
    "kernelspec": {
      "name": "python3",
      "display_name": "Python 3"
    },
    "language_info": {
      "name": "python"
    }
  },
  "cells": [
    {
      "cell_type": "markdown",
      "metadata": {
        "id": "view-in-github",
        "colab_type": "text"
      },
      "source": [
        "<a href=\"https://colab.research.google.com/github/Saqib-Sizan-Khan/Compiler_Design_Codes/blob/main/Lexical_Analysis.ipynb\" target=\"_parent\"><img src=\"https://colab.research.google.com/assets/colab-badge.svg\" alt=\"Open In Colab\"/></a>"
      ]
    },
    {
      "cell_type": "code",
      "execution_count": 74,
      "metadata": {
        "id": "eVlBKNXmEZoe",
        "colab": {
          "base_uri": "https://localhost:8080/"
        },
        "outputId": "84713d1b-0718-410d-aca0-f3e9c801e385"
      },
      "outputs": [
        {
          "output_type": "stream",
          "name": "stdout",
          "text": [
            "Keyword (1): int\n",
            "Indentifier (4): c, d22, b, a\n",
            "Arithmetic Operator (5): =, +, *, +, -\n",
            "Constant (1): 10\n",
            "Parenthesis (3): [], {}, ()\n",
            "Punctuation (1): ;\n",
            "No Lexical Error\n"
          ]
        }
      ],
      "source": [
        "syntex = \"int a = a + [ { ( b * c ) + 10 } - d22 ] ;\"\n",
        "error = False\n",
        "\n",
        "kw = ['int', 'float', 'double', 'if', 'elif', 'else', 'for']\n",
        "ao = ['+', '-', '*', '/', '=']\n",
        "punct = [':', ';', ',']\n",
        "pt = ['(', ')', '{', '}', '[', ']']\n",
        "\n",
        "keyword = []\n",
        "identifier = []\n",
        "constant = []\n",
        "arithmetic_operator = []\n",
        "punctuation = []\n",
        "parenthesis = []\n",
        "bracket = []\n",
        "\n",
        "tokens = syntex.split()\n",
        "\n",
        "for token in tokens:\n",
        "  if token in kw:\n",
        "    keyword.append(token)\n",
        "  elif token in ao:\n",
        "    arithmetic_operator.append(token)\n",
        "  elif token.isdecimal():\n",
        "    constant.append(token)\n",
        "  elif token in pt:\n",
        "    parenthesis.append(token)\n",
        "  elif token in punct:\n",
        "    punctuation.append(token)\n",
        "  else:\n",
        "    identifier.append(token)\n",
        "\n",
        "print(f'Keyword ({len(keyword)}):', end=' ')\n",
        "print(*keyword, sep=', ')\n",
        "\n",
        "for i in identifier:\n",
        "  if i[0].isdigit():\n",
        "    error = True\n",
        "\n",
        "identifier  = set(identifier)\n",
        "print(f'Indentifier ({len(identifier)}):', end=' ')\n",
        "print(*identifier, sep=', ')\n",
        "\n",
        "print(f'Arithmetic Operator ({len(arithmetic_operator)}):', end=' ')\n",
        "print(*arithmetic_operator, sep=', ')\n",
        "\n",
        "print(f'Constant ({len(constant)}):', end=' ')\n",
        "print(*constant, sep=', ')\n",
        "\n",
        "for p in parenthesis:\n",
        "  if p == '(':\n",
        "    if ')' in parenthesis:\n",
        "      bracket.append('()')\n",
        "      parenthesis.remove(')')\n",
        "    else:\n",
        "      error = True\n",
        "      bracket.append(p)\n",
        "\n",
        "  if p == '{':\n",
        "    if '}' in parenthesis:\n",
        "      bracket.append('{}')\n",
        "      parenthesis.remove('}')\n",
        "    else:\n",
        "      error = True\n",
        "      bracket.append(p)\n",
        "\n",
        "  if p == '[':\n",
        "    if ']' in parenthesis:\n",
        "      bracket.append('[]')\n",
        "      parenthesis.remove(']')\n",
        "    else:\n",
        "      error = True\n",
        "      bracket.append(p)\n",
        "  \n",
        "  elif p == ')' or p == '}' or p == ']':\n",
        "    error = True\n",
        "    bracket.append(p)\n",
        "\n",
        "print(f'Parenthesis ({len(bracket)}):', end=' ')\n",
        "print(*bracket, sep=', ')\n",
        "\n",
        "print(f'Punctuation ({len(punctuation)}):', end=' ')\n",
        "print(*punctuation, sep=', ')\n",
        "\n",
        "if error:\n",
        "  print(\"Appered Lexical Error\")\n",
        "else:\n",
        "  print('No Lexical Error')"
      ]
    }
  ]
}