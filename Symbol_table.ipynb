{
  "nbformat": 4,
  "nbformat_minor": 0,
  "metadata": {
    "colab": {
      "name": "Symbol_table.ipynb",
      "provenance": [],
      "authorship_tag": "ABX9TyNpJ+oishbHws/vRCyd2c2f",
      "include_colab_link": true
    },
    "kernelspec": {
      "name": "python3",
      "display_name": "Python 3"
    },
    "language_info": {
      "name": "python"
    }
  },
  "cells": [
    {
      "cell_type": "markdown",
      "metadata": {
        "id": "view-in-github",
        "colab_type": "text"
      },
      "source": [
        "<a href=\"https://colab.research.google.com/github/Saqib-Sizan-Khan/Compiler_Design_Codes/blob/main/Symbol_table.ipynb\" target=\"_parent\"><img src=\"https://colab.research.google.com/assets/colab-badge.svg\" alt=\"Open In Colab\"/></a>"
      ]
    },
    {
      "cell_type": "code",
      "execution_count": 62,
      "metadata": {
        "colab": {
          "base_uri": "https://localhost:8080/"
        },
        "id": "7wE91wWHqXhr",
        "outputId": "3b68fa1b-01de-41d9-d054-5736f44aea70"
      },
      "outputs": [
        {
          "name": "stdout",
          "output_type": "stream",
          "text": [
            "1.Insert\n",
            "2.show\n",
            "3.Get Hash Key\n",
            "4.Stop\n",
            "1\n",
            "abc,id\n",
            "1.Insert\n",
            "2.show\n",
            "3.Get Hash Key\n",
            "4.Stop\n",
            "1\n",
            "bac,id\n",
            "1.Insert\n",
            "2.show\n",
            "3.Get Hash Key\n",
            "4.Stop\n",
            "1\n",
            "cba,id\n",
            "1.Insert\n",
            "2.show\n",
            "3.Get Hash Key\n",
            "4.Stop\n",
            "2\n",
            "Full Table: [0, 0, 0, 0, [['bac', 'id'], ['abc', 'id'], ['cba', 'id']]]\n",
            "1.Insert\n",
            "2.show\n",
            "3.Get Hash Key\n",
            "4.Stop\n",
            "3\n",
            "bac\n",
            "Hash Key: 4\n",
            "1.Insert\n",
            "2.show\n",
            "3.Get Hash Key\n",
            "4.Stop\n",
            "3\n",
            "abc\n",
            "Hash Key: 4\n",
            "1.Insert\n",
            "2.show\n",
            "3.Get Hash Key\n",
            "4.Stop\n",
            "4\n"
          ]
        }
      ],
      "source": [
        "table = list()\n",
        "temp = list()\n",
        "ts = 5\n",
        "table = [0] * ts\n",
        "\n",
        "def insert():\n",
        "  a = input().split(',')\n",
        "  hash = hashing(a[0])\n",
        "\n",
        "  if table[hash] == 0:\n",
        "    table[hash] = a\n",
        "  else:\n",
        "    b = table[hash]\n",
        "    temp.append(a)\n",
        "    temp.append(b)\n",
        "    table[hash] = temp\n",
        "    if len(table[hash]) > 2:\n",
        "      table[hash].pop(-1)\n",
        "\n",
        "def getHashKey():\n",
        "  a = input()\n",
        "  a = hashing(a)\n",
        "  print(\"Hash Key:\", a)\n",
        "\n",
        "def hashing(a):\n",
        "  sum = 0\n",
        "  for char in a:\n",
        "    sum = sum + ord(char)\n",
        "  return sum%ts\n",
        "\n",
        "def show():\n",
        "  print('Full Table: ',end='')\n",
        "  print(table)\n",
        "\n",
        "\n",
        "while True:\n",
        "\n",
        "  option = int(input('1.Insert\\n2.show\\n3.Get Hash Key\\n4.Stop\\n'))\n",
        "  \n",
        "  if option == 1:\n",
        "    insert()\n",
        "  elif option == 2:\n",
        "    show()\n",
        "  elif option == 3:\n",
        "    getHashKey()\n",
        "  else: \n",
        "    break\n",
        "\n"
      ]
    }
  ]
}