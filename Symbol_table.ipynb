{
  "nbformat": 4,
  "nbformat_minor": 0,
  "metadata": {
    "colab": {
      "name": "Symbol_table.ipynb",
      "provenance": [],
      "collapsed_sections": [],
      "authorship_tag": "ABX9TyPBku6NBMitxC6xtC+0s+zx",
      "include_colab_link": true
    },
    "kernelspec": {
      "name": "python3",
      "display_name": "Python 3"
    },
    "language_info": {
      "name": "python"
    }
  },
  "cells": [
    {
      "cell_type": "markdown",
      "metadata": {
        "id": "view-in-github",
        "colab_type": "text"
      },
      "source": [
        "<a href=\"https://colab.research.google.com/github/Saqib-Sizan-Khan/Compiler_Design_Codes/blob/main/Symbol_table.ipynb\" target=\"_parent\"><img src=\"https://colab.research.google.com/assets/colab-badge.svg\" alt=\"Open In Colab\"/></a>"
      ]
    },
    {
      "cell_type": "code",
      "execution_count": 25,
      "metadata": {
        "colab": {
          "base_uri": "https://localhost:8080/",
          "height": 1000
        },
        "id": "7wE91wWHqXhr",
        "outputId": "2719569c-e5e8-4c29-9af9-acb16e1becdd"
      },
      "outputs": [
        {
          "output_type": "stream",
          "name": "stdout",
          "text": [
            "\n",
            "1.Insert\n",
            "2.show\n",
            "3.Get Hash Key\n",
            "4.Search\n",
            "5.Delete\n",
            "6.Stop\n",
            "1\n",
            "Input the Name & Type to Insert: int,key\n",
            "\n",
            "1.Insert\n",
            "2.show\n",
            "3.Get Hash Key\n",
            "4.Search\n",
            "5.Delete\n",
            "6.Stop\n",
            "2\n",
            "Full Table: [[None], [['int', 'key'], [None]], [None], [None], [None]]\n",
            "\n",
            "1.Insert\n",
            "2.show\n",
            "3.Get Hash Key\n",
            "4.Search\n",
            "5.Delete\n",
            "6.Stop\n",
            "1\n",
            "Input the Name & Type to Insert: nit,id\n",
            "\n",
            "1.Insert\n",
            "2.show\n",
            "3.Get Hash Key\n",
            "4.Search\n",
            "5.Delete\n",
            "6.Stop\n",
            "1\n",
            "Input the Name & Type to Insert: tin,id\n",
            "\n",
            "1.Insert\n",
            "2.show\n",
            "3.Get Hash Key\n",
            "4.Search\n",
            "5.Delete\n",
            "6.Stop\n",
            "2\n",
            "Full Table: [[None], [['int', 'key'], [None], ['nit', 'id'], ['tin', 'id']], [None], [None], [None]]\n",
            "\n",
            "1.Insert\n",
            "2.show\n",
            "3.Get Hash Key\n",
            "4.Search\n",
            "5.Delete\n",
            "6.Stop\n",
            "4\n",
            "Input the Name & Type to Search: tin,id\n",
            "['tin', 'id'] found\n"
          ]
        },
        {
          "output_type": "error",
          "ename": "KeyboardInterrupt",
          "evalue": "ignored",
          "traceback": [
            "\u001b[0;31m---------------------------------------------------------------------------\u001b[0m",
            "\u001b[0;31mKeyboardInterrupt\u001b[0m                         Traceback (most recent call last)",
            "\u001b[0;32m<ipython-input-25-42539b250414>\u001b[0m in \u001b[0;36m<module>\u001b[0;34m\u001b[0m\n\u001b[1;32m     64\u001b[0m \u001b[0;32mwhile\u001b[0m \u001b[0;32mTrue\u001b[0m\u001b[0;34m:\u001b[0m\u001b[0;34m\u001b[0m\u001b[0;34m\u001b[0m\u001b[0m\n\u001b[1;32m     65\u001b[0m \u001b[0;34m\u001b[0m\u001b[0m\n\u001b[0;32m---> 66\u001b[0;31m   \u001b[0moption\u001b[0m \u001b[0;34m=\u001b[0m \u001b[0mint\u001b[0m\u001b[0;34m(\u001b[0m\u001b[0minput\u001b[0m\u001b[0;34m(\u001b[0m\u001b[0;34m'\\n1.Insert\\n2.show\\n3.Get Hash Key\\n4.Search\\n5.Delete\\n6.Stop\\n'\u001b[0m\u001b[0;34m)\u001b[0m\u001b[0;34m)\u001b[0m\u001b[0;34m\u001b[0m\u001b[0;34m\u001b[0m\u001b[0m\n\u001b[0m\u001b[1;32m     67\u001b[0m \u001b[0;34m\u001b[0m\u001b[0m\n\u001b[1;32m     68\u001b[0m   \u001b[0;32mif\u001b[0m \u001b[0moption\u001b[0m \u001b[0;34m==\u001b[0m \u001b[0;36m1\u001b[0m\u001b[0;34m:\u001b[0m\u001b[0;34m\u001b[0m\u001b[0;34m\u001b[0m\u001b[0m\n",
            "\u001b[0;32m/usr/local/lib/python3.7/dist-packages/ipykernel/kernelbase.py\u001b[0m in \u001b[0;36mraw_input\u001b[0;34m(self, prompt)\u001b[0m\n\u001b[1;32m    861\u001b[0m             \u001b[0mself\u001b[0m\u001b[0;34m.\u001b[0m\u001b[0m_parent_ident\u001b[0m\u001b[0;34m,\u001b[0m\u001b[0;34m\u001b[0m\u001b[0;34m\u001b[0m\u001b[0m\n\u001b[1;32m    862\u001b[0m             \u001b[0mself\u001b[0m\u001b[0;34m.\u001b[0m\u001b[0m_parent_header\u001b[0m\u001b[0;34m,\u001b[0m\u001b[0;34m\u001b[0m\u001b[0;34m\u001b[0m\u001b[0m\n\u001b[0;32m--> 863\u001b[0;31m             \u001b[0mpassword\u001b[0m\u001b[0;34m=\u001b[0m\u001b[0;32mFalse\u001b[0m\u001b[0;34m,\u001b[0m\u001b[0;34m\u001b[0m\u001b[0;34m\u001b[0m\u001b[0m\n\u001b[0m\u001b[1;32m    864\u001b[0m         )\n\u001b[1;32m    865\u001b[0m \u001b[0;34m\u001b[0m\u001b[0m\n",
            "\u001b[0;32m/usr/local/lib/python3.7/dist-packages/ipykernel/kernelbase.py\u001b[0m in \u001b[0;36m_input_request\u001b[0;34m(self, prompt, ident, parent, password)\u001b[0m\n\u001b[1;32m    902\u001b[0m             \u001b[0;32mexcept\u001b[0m \u001b[0mKeyboardInterrupt\u001b[0m\u001b[0;34m:\u001b[0m\u001b[0;34m\u001b[0m\u001b[0;34m\u001b[0m\u001b[0m\n\u001b[1;32m    903\u001b[0m                 \u001b[0;31m# re-raise KeyboardInterrupt, to truncate traceback\u001b[0m\u001b[0;34m\u001b[0m\u001b[0;34m\u001b[0m\u001b[0;34m\u001b[0m\u001b[0m\n\u001b[0;32m--> 904\u001b[0;31m                 \u001b[0;32mraise\u001b[0m \u001b[0mKeyboardInterrupt\u001b[0m\u001b[0;34m(\u001b[0m\u001b[0;34m\"Interrupted by user\"\u001b[0m\u001b[0;34m)\u001b[0m \u001b[0;32mfrom\u001b[0m \u001b[0;32mNone\u001b[0m\u001b[0;34m\u001b[0m\u001b[0;34m\u001b[0m\u001b[0m\n\u001b[0m\u001b[1;32m    905\u001b[0m             \u001b[0;32mexcept\u001b[0m \u001b[0mException\u001b[0m \u001b[0;32mas\u001b[0m \u001b[0me\u001b[0m\u001b[0;34m:\u001b[0m\u001b[0;34m\u001b[0m\u001b[0;34m\u001b[0m\u001b[0m\n\u001b[1;32m    906\u001b[0m                 \u001b[0mself\u001b[0m\u001b[0;34m.\u001b[0m\u001b[0mlog\u001b[0m\u001b[0;34m.\u001b[0m\u001b[0mwarning\u001b[0m\u001b[0;34m(\u001b[0m\u001b[0;34m\"Invalid Message:\"\u001b[0m\u001b[0;34m,\u001b[0m \u001b[0mexc_info\u001b[0m\u001b[0;34m=\u001b[0m\u001b[0;32mTrue\u001b[0m\u001b[0;34m)\u001b[0m\u001b[0;34m\u001b[0m\u001b[0;34m\u001b[0m\u001b[0m\n",
            "\u001b[0;31mKeyboardInterrupt\u001b[0m: Interrupted by user"
          ]
        }
      ],
      "source": [
        "table = list()\n",
        "temp = list()\n",
        "ts = 5\n",
        "table = [[None]] * ts\n",
        "\n",
        "def insert():\n",
        "  a = input('Input the Name & Type to Insert: ').split(',')\n",
        "  hash = hashing(a[0])\n",
        "\n",
        "  if table[hash] == None:\n",
        "    table[hash][0].pop()\n",
        "    table[hash] = a\n",
        "  else:\n",
        "    b = table[hash]\n",
        "    temp.append(a)\n",
        "    temp.append(b)\n",
        "    table[hash] = temp\n",
        "    if len(table[hash]) > 2:\n",
        "      table[hash].pop(-1)\n",
        "\n",
        "def getHashKey():\n",
        "  a = input()\n",
        "  a = hashing(a)\n",
        "  print(\"Hash Key:\", a)\n",
        "\n",
        "def hashing(a):\n",
        "  sum = 0\n",
        "  for char in a:\n",
        "    sum = sum + ord(char)\n",
        "  return sum%ts\n",
        "\n",
        "def search(a):\n",
        "  if any(a in inner_list for inner_list in table):\n",
        "    return True\n",
        "\n",
        "  return False\n",
        "\n",
        "def show():\n",
        "  print('Full Table: ',end='')\n",
        "  print(table)\n",
        "\n",
        "def delete():\n",
        "  a = input('Input the Name & Type to Delete: ').split(',')\n",
        "  \n",
        "  list_no = 0\n",
        "  pos = 0\n",
        "  for x in range(0,len(table)):\n",
        "      try:\n",
        "          pos = table[x].index(a)\n",
        "          break\n",
        "      except:\n",
        "          pass\n",
        "\n",
        "  list_no = x\n",
        "  return list_no, pos\n",
        "  \n",
        "  # if search(a):\n",
        "  #   d = table.index(a)\n",
        "  #   print(d)\n",
        "  # else:\n",
        "  #   print('Item not found')\n",
        "\n",
        "\n",
        "while True:\n",
        "\n",
        "  option = int(input('\\n1.Insert\\n2.show\\n3.Get Hash Key\\n4.Search\\n5.Delete\\n6.Stop\\n'))\n",
        "  \n",
        "  if option == 1:\n",
        "    insert()\n",
        "  elif option == 2:\n",
        "    show()\n",
        "  elif option == 3:\n",
        "    getHashKey()\n",
        "  elif option == 4:\n",
        "    a = input('Input the Name & Type to Search: ').split(',')\n",
        "    if search(a):\n",
        "      print(str(a) + ' found')\n",
        "    else:\n",
        "      print(str(a) + ' not found')\n",
        "  elif option == 5:\n",
        "    print(delete())\n",
        "  else: \n",
        "    break\n",
        "\n"
      ]
    },
    {
      "cell_type": "code",
      "source": [
        "table = [[['abc','id'], ['int','key']], None, None, None, None]\n",
        "\n"
      ],
      "metadata": {
        "id": "dx-a0wOyKSrQ"
      },
      "execution_count": null,
      "outputs": []
    }
  ]
}