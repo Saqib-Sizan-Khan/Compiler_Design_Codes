{
  "nbformat": 4,
  "nbformat_minor": 0,
  "metadata": {
    "colab": {
      "name": "Symbol_table.ipynb",
      "provenance": [],
      "collapsed_sections": [],
      "authorship_tag": "ABX9TyPql5Ni3yc1jEw+O+mI0Jd6",
      "include_colab_link": true
    },
    "kernelspec": {
      "name": "python3",
      "display_name": "Python 3"
    },
    "language_info": {
      "name": "python"
    }
  },
  "cells": [
    {
      "cell_type": "markdown",
      "metadata": {
        "id": "view-in-github",
        "colab_type": "text"
      },
      "source": [
        "<a href=\"https://colab.research.google.com/github/Saqib-Sizan-Khan/Compiler_Design_Codes/blob/main/Symbol_table.ipynb\" target=\"_parent\"><img src=\"https://colab.research.google.com/assets/colab-badge.svg\" alt=\"Open In Colab\"/></a>"
      ]
    },
    {
      "cell_type": "code",
      "execution_count": 31,
      "metadata": {
        "colab": {
          "base_uri": "https://localhost:8080/"
        },
        "id": "7wE91wWHqXhr",
        "outputId": "541689d1-cf1d-4c2b-ddf0-59aafb343e04"
      },
      "outputs": [
        {
          "name": "stdout",
          "output_type": "stream",
          "text": [
            "\n",
            "1.Insert\n",
            "2.show\n",
            "3.Get Hash Key\n",
            "4.Search\n",
            "5.Delete\n",
            "6.Stop\n",
            "1\n",
            "Input the Name & Type to Insert: int,key\n",
            "\n",
            "1.Insert\n",
            "2.show\n",
            "3.Get Hash Key\n",
            "4.Search\n",
            "5.Delete\n",
            "6.Stop\n",
            "5\n",
            "Input the Name & Type to Delete: abc,id\n",
            "['abc', 'id'] Not Found\n",
            "\n",
            "1.Insert\n",
            "2.show\n",
            "3.Get Hash Key\n",
            "4.Search\n",
            "5.Delete\n",
            "6.Stop\n",
            "5\n",
            "Input the Name & Type to Delete: int,key\n",
            "['int', 'key'] Deleted\n",
            "\n",
            "1.Insert\n",
            "2.show\n",
            "3.Get Hash Key\n",
            "4.Search\n",
            "5.Delete\n",
            "6.Stop\n",
            "2\n",
            "Full Table: [[None], [[None]], [None], [None], [None]]\n",
            "\n",
            "1.Insert\n",
            "2.show\n",
            "3.Get Hash Key\n",
            "4.Search\n",
            "5.Delete\n",
            "6.Stop\n",
            "6\n"
          ]
        }
      ],
      "source": [
        "table = list()\n",
        "temp = list()\n",
        "ts = 5\n",
        "table = [[None]] * ts\n",
        "\n",
        "def insert():\n",
        "  a = input('Input the Name & Type to Insert: ').split(',')\n",
        "  hash = hashing(a[0])\n",
        "\n",
        "  if table[hash] == None:\n",
        "    table[hash][0] = a\n",
        "  else:\n",
        "    b = table[hash]\n",
        "    temp.append(a)\n",
        "    temp.append(b)\n",
        "    table[hash] = temp\n",
        "    if len(table[hash]) > 2:\n",
        "      table[hash].pop(-1)\n",
        "\n",
        "def getHashKey():\n",
        "  a = input()\n",
        "  a = hashing(a)\n",
        "  print(\"Hash Key:\", a)\n",
        "\n",
        "def hashing(a):\n",
        "  sum = 0\n",
        "  for char in a:\n",
        "    sum = sum + ord(char)\n",
        "  return sum%ts\n",
        "\n",
        "def search(a):\n",
        "  if any(a in inner_list for inner_list in table):\n",
        "    return True\n",
        "\n",
        "  return False\n",
        "\n",
        "def show():\n",
        "  print('Full Table: ',end='')\n",
        "  print(table)\n",
        "\n",
        "def delete():\n",
        "  a = input('Input the Name & Type to Delete: ').split(',')\n",
        "  \n",
        "  list_no = 0\n",
        "  pos = 0\n",
        "  flag = False\n",
        "  for x in range(0,len(table)):\n",
        "      try:\n",
        "          pos = table[x].index(a)\n",
        "          flag = True\n",
        "          break\n",
        "      except:\n",
        "          pass\n",
        "\n",
        "  if flag:\n",
        "    list_no = x\n",
        "    table[list_no].pop(pos)\n",
        "    print(str(a) + ' Deleted')\n",
        "  else:\n",
        "    print(str(a) + ' Not Found')\n",
        "\n",
        "\n",
        "while True:\n",
        "\n",
        "  option = int(input('\\n1.Insert\\n2.show\\n3.Get Hash Key\\n4.Search\\n5.Delete\\n6.Stop\\n'))\n",
        "  \n",
        "  if option == 1:\n",
        "    insert()\n",
        "  elif option == 2:\n",
        "    show()\n",
        "  elif option == 3:\n",
        "    getHashKey()\n",
        "  elif option == 4:\n",
        "    a = input('Input the Name & Type to Search: ').split(',')\n",
        "    if search(a):\n",
        "      print(str(a) + ' found')\n",
        "    else:\n",
        "      print(str(a) + ' not found')\n",
        "  elif option == 5:\n",
        "    delete()\n",
        "  else: \n",
        "    break\n",
        "\n"
      ]
    },
    {
      "cell_type": "code",
      "source": [
        "table = [[['abc','id'], ['int','key']], None, None, None, None]\n",
        "\n"
      ],
      "metadata": {
        "id": "dx-a0wOyKSrQ"
      },
      "execution_count": null,
      "outputs": []
    }
  ]
}