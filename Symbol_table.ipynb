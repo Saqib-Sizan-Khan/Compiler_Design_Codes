{
  "nbformat": 4,
  "nbformat_minor": 0,
  "metadata": {
    "colab": {
      "name": "Symbol_table.ipynb",
      "provenance": [],
      "authorship_tag": "ABX9TyM0iyBRZxrFSuDliaNkyqsZ",
      "include_colab_link": true
    },
    "kernelspec": {
      "name": "python3",
      "display_name": "Python 3"
    },
    "language_info": {
      "name": "python"
    }
  },
  "cells": [
    {
      "cell_type": "markdown",
      "metadata": {
        "id": "view-in-github",
        "colab_type": "text"
      },
      "source": [
        "<a href=\"https://colab.research.google.com/github/Saqib-Sizan-Khan/Compiler_Design_Codes/blob/main/Symbol_table.ipynb\" target=\"_parent\"><img src=\"https://colab.research.google.com/assets/colab-badge.svg\" alt=\"Open In Colab\"/></a>"
      ]
    },
    {
      "cell_type": "code",
      "execution_count": null,
      "metadata": {
        "colab": {
          "base_uri": "https://localhost:8080/"
        },
        "id": "7wE91wWHqXhr",
        "outputId": "583dd154-b833-44cd-b716-c2153f3025b0"
      },
      "outputs": [
        {
          "name": "stdout",
          "output_type": "stream",
          "text": [
            "int,key\n"
          ]
        },
        {
          "output_type": "execute_result",
          "data": {
            "text/plain": [
              "[0, 0, 0, 0, 0, 0, 0, 0, 0, ['int', 'key'], 0, 0, 0, 0, 0]"
            ]
          },
          "metadata": {},
          "execution_count": 15
        }
      ],
      "source": [
        "table = list()\n",
        "ts = 14\n",
        "table = [0] * ts\n",
        "\n",
        "def insert():\n",
        "  a = input().split(',')\n",
        "  hash = hashing(a)\n",
        "  table.insert(hash, a)\n",
        "\n",
        "def hashing(a):\n",
        "  sum = 0\n",
        "  name = a[0]\n",
        "  for char in name:\n",
        "    sum = sum + ord(char)\n",
        "\n",
        "  return sum%ts\n",
        "\n",
        "\n",
        "insert()\n",
        "table"
      ]
    }
  ]
}